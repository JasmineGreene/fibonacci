{
 "cells": [
  {
   "cell_type": "code",
   "execution_count": 1,
   "metadata": {
    "collapsed": true
   },
   "outputs": [],
   "source": [
    "def runge_kutta_single(f,x,y,h):\n",
    "    k1 = f(x,y)\n",
    "    k2 = f(x+h/2,y+h*k1/2)\n",
    "    k3 = f(x+h/2,y+h*k2/2)\n",
    "    k4 = f(x+h,y+h*k3)\n",
    "    return (x+h,y+h*(k1+2*k2+2*k3+k4)/6)\n",
    "\n",
    "def runge_kutta(f,xs,xe,h,y0):\n",
    "    ans = [(xs,y0)]\n",
    "    while(ans[-1][0]<xe):\n",
    "        ans.append(runge_kutta_single(f,ans[-1][0],ans[-1][1],h))\n",
    "    return ans\n",
    "\n",
    "def solve(f,y,ep):\n",
    "    y1 = f(y)\n",
    "    y2 = f(y1)\n",
    "    while(abs(y1-y2)>ep):\n",
    "        y1,y2 = y2,f(y2)\n",
    "    return y2\n",
    "\n",
    "def adams_single(f,x1,y1,x2,y2,h,ep):\n",
    "    b = y2 + h * (8 * f(x2,y2) - f(x1,y1)) /12\n",
    "    a = h * 5 / 12\n",
    "    n = x2+h\n",
    "    to_solve = lambda y : a*f(n,y)+b\n",
    "    return (n,solve(to_solve,y2,ep))\n",
    "    \n",
    "\n",
    "def adams(f,xs,xe,h,y0,ep):\n",
    "    ans = [(xs,y0)]\n",
    "    ans.append(runge_kutta_single(f,ans[-1][0],ans[-1][1],h))\n",
    "    while(ans[-1][0]<xe):\n",
    "        ans.append(adams_single(f,ans[-2][0],ans[-2][1],ans[-1][0],ans[-1][1],h,ep))\n",
    "    return ans\n",
    "\n",
    "test_runge_kutta = lambda h : runge_kutta(lambda x,y:-x*x*y*y,0,1.5,h,3)[-1][1]\n",
    "\n",
    "test_adams = lambda h ,ep : adams(lambda x,y:-x*x*y*y,0,1.5,h,3,ep)\n"
   ]
  },
  {
   "cell_type": "code",
   "execution_count": 77,
   "metadata": {
    "collapsed": false
   },
   "outputs": [],
   "source": [
    "def test_runge_kutta(h):\n",
    "    ans = runge_kutta(lambda x,y:-x*x*y*y,0,1.5,h,3)\n",
    "    return ((1.5-ans[-2][0])*ans[-1][1]+(ans[-1][0]-1.5)*ans[-2][1])/(ans[-1][0]-ans[-2][0])\n",
    "\n",
    "def test_adams(h,ep):\n",
    "    ans = adams(lambda x,y:-x*x*y*y,0,1.5,h,3,ep)\n",
    "    return ((1.5-ans[-2][0])*ans[-1][1]+(ans[-1][0]-1.5)*ans[-2][1])/(ans[-1][0]-ans[-2][0])\n",
    "\n",
    "h = (0.1,0.1/2,0.1/4,0.1/8,0.1/16)\n",
    "\n",
    "yee = 3/(1+1.5**3)"
   ]
  },
  {
   "cell_type": "code",
   "execution_count": 87,
   "metadata": {
    "collapsed": false
   },
   "outputs": [
    {
     "data": {
      "text/plain": [
       "[1.780000079509847e-05,\n",
       " 1.0422407269450318e-06,\n",
       " 6.29071809088444e-08,\n",
       " 3.861849506847648e-09,\n",
       " 2.391897790943176e-10]"
      ]
     },
     "execution_count": 87,
     "metadata": {},
     "output_type": "execute_result"
    }
   ],
   "source": [
    "er = map(lambda x:abs(test_runge_kutta(x)-yee),h)\n",
    "er"
   ]
  },
  {
   "cell_type": "code",
   "execution_count": 88,
   "metadata": {
    "collapsed": false
   },
   "outputs": [
    {
     "data": {
      "text/plain": [
       "[0.0001230282284407913,\n",
       " 1.4087944491425475e-05,\n",
       " 1.6812959890977197e-06,\n",
       " 2.0526978583568223e-07,\n",
       " 2.5358317223833637e-08]"
      ]
     },
     "execution_count": 88,
     "metadata": {},
     "output_type": "execute_result"
    }
   ],
   "source": [
    "ea = map(lambda x:abs(test_adams(x,0.000000001)-yee),h)\n",
    "ea"
   ]
  },
  {
   "cell_type": "code",
   "execution_count": 96,
   "metadata": {
    "collapsed": false
   },
   "outputs": [
    {
     "name": "stdout",
     "output_type": "stream",
     "text": [
      "[4.094116864307501, 4.05032001460384, 4.025860861547855, 4.013064297087043]\n",
      "[3.126456340419522, 3.0668154939809336, 3.033980536411677, 3.016990372620448]\n"
     ]
    }
   ],
   "source": [
    "from math import log\n",
    "print [(log(er[i])-log(er[i+1]))/(log(2)) for i in range(4)]\n",
    "print [(log(ea[i])-log(ea[i+1]))/(log(2)) for i in range(4)]"
   ]
  },
  {
   "cell_type": "code",
   "execution_count": null,
   "metadata": {
    "collapsed": true
   },
   "outputs": [],
   "source": []
  }
 ],
 "metadata": {
  "kernelspec": {
   "display_name": "Python 2",
   "language": "python",
   "name": "python2"
  },
  "language_info": {
   "codemirror_mode": {
    "name": "ipython",
    "version": 2
   },
   "file_extension": ".py",
   "mimetype": "text/x-python",
   "name": "python",
   "nbconvert_exporter": "python",
   "pygments_lexer": "ipython2",
   "version": "2.7.11"
  }
 },
 "nbformat": 4,
 "nbformat_minor": 0
}
